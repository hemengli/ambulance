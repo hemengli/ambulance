{
 "cells": [
  {
   "cell_type": "code",
   "execution_count": 1,
   "metadata": {},
   "outputs": [],
   "source": [
    "import numpy as np\n",
    "import itertools\n",
    "import copy\n",
    "\n",
    "from scipy.optimize import fsolve\n",
    "from scipy.special import gamma"
   ]
  },
  {
   "cell_type": "code",
   "execution_count": 2,
   "metadata": {},
   "outputs": [],
   "source": [
    "class City(object):\n",
    "    \n",
    "    def __init__(self, width, height, hospital_count, subregion_count):\n",
    "        \n",
    "        self.width = width\n",
    "        self.height = height\n",
    "        #for simplicity, subregion_count = base_count\n",
    "        \n",
    "        hospital_x = np.linspace(0, self.width, num = hospital_count + 2)\n",
    "        self.hospital_location = [(hospital_x[i+1], self.height/2) for i in range(hospital_count)]\n",
    "        \n",
    "        self.subregion_count = subregion_count + (subregion_count % 2)\n",
    "        subregion_x = np.linspace(0, self.width, num = int(self.subregion_count/2 + 2))\n",
    "        subregion_y = np.linspace(0, self.height, num = 4)\n",
    "        base_location = [[(subregion_x[i+1], subregion_y[j+1]) for j in range(2)] for i in range(int(self.subregion_count/2))]\n",
    "        self.base_location = list(itertools.chain(*base_location))\n",
    "        "
   ]
  },
  {
   "cell_type": "code",
   "execution_count": 3,
   "metadata": {},
   "outputs": [],
   "source": [
    "def gen_call_arrival_loc(city):\n",
    "    return (np.random.uniform(0, city.width),np.random.uniform(0, city.height))"
   ]
  },
  {
   "cell_type": "code",
   "execution_count": 4,
   "metadata": {},
   "outputs": [],
   "source": [
    "def gen_call_arrival_time():\n",
    "    return np.random.exponential(1)"
   ]
  },
  {
   "cell_type": "code",
   "execution_count": 5,
   "metadata": {},
   "outputs": [],
   "source": [
    "def gen_atlocation_service_time():\n",
    "    return np.random.exponential(12)"
   ]
  },
  {
   "cell_type": "code",
   "execution_count": 6,
   "metadata": {},
   "outputs": [],
   "source": [
    "def weibull_param_relationship(scale, mean, stddev):\n",
    "    return stddev**2/mean**2 - gamma(1 + 2/scale)/(gamma(1+1/scale)**2) + 1\n",
    "\n",
    "def get_weibull_parameters(mean = 30, stddev = 13):\n",
    "    scale = fsolve(weibull_param_relationship, 1,args=(mean, stddev))\n",
    "    shape = mean / gamma(1+1/scale)\n",
    "    \n",
    "    return scale, shape\n",
    "\n",
    "def gen_athospital_service_time():\n",
    "    scale, shape = get_weibull_parameters(mean = 30, stddev = 13)\n",
    "    return scale * np.random.weibull(shape)"
   ]
  },
  {
   "cell_type": "code",
   "execution_count": 7,
   "metadata": {},
   "outputs": [],
   "source": [
    "class Call(object):\n",
    "    \n",
    "    def __init__(self, location, interarrival_time, priority = 0):\n",
    "        \n",
    "        self.location = location\n",
    "        \n",
    "        #initialize the call to be unassigned\n",
    "        #-1-unassigned, 0 to (N-1) assigned ambulance index \n",
    "        self.status = -1\n",
    "        self.interarrival_time = interarrival_time\n",
    "        self.priority = priority"
   ]
  },
  {
   "cell_type": "code",
   "execution_count": 8,
   "metadata": {},
   "outputs": [],
   "source": [
    "def get_distance(location1, location2):\n",
    "    \n",
    "    distance = np.abs(location1[0] - location2[0]) + np.abs(location1[1] - location2[1])\n",
    "    return distance"
   ]
  },
  {
   "cell_type": "code",
   "execution_count": 9,
   "metadata": {},
   "outputs": [],
   "source": [
    "def get_ambulance_travel_time(distance, speed = 10):\n",
    "    return distance/speed"
   ]
  },
  {
   "cell_type": "code",
   "execution_count": 10,
   "metadata": {},
   "outputs": [],
   "source": [
    "class Ambulance(object):\n",
    "    \n",
    "    def __init__(self, base):\n",
    "        \n",
    "        #fix the ambulance's home base\n",
    "        self.base = base\n",
    "        \n",
    "        #initialize the ambulance idle at home base\n",
    "        \n",
    "        #status code: 0-idle at base, 1-going to scene of call, 2-serving at scene of call, 3-going to hospital\n",
    "        #4-transferring patient at hospital, 5-returning to base\n",
    "        self.status = 0\n",
    "        self.origin = base\n",
    "        self.destination = base # if destination = origin, ambulance is stationary\n",
    "        self.time = 0\n",
    "        self.endtime = np.inf\n",
    "        \n",
    "    def update_status(self, status, origin, destination, time, endtime):\n",
    "        self.status = status\n",
    "        \n",
    "        self.origin = origin\n",
    "        self.destination = destination\n",
    "        self.time = time\n",
    "        self.endtime = endtime\n",
    "        \n",
    "    def redployment(self):\n",
    "        \n",
    "        #current heuristic: return to home base\n",
    "        distance = get_distance(self.origin, self.base)\n",
    "        travel_time = get_ambulance_travel_time(distance)\n",
    "        self.update_status(5, self.origin, copy.deepcopy(self.endtime), copy.deepcopy(self.endtime) + travel_time)\n",
    "        \n",
    "        \n",
    "    def assign_to_call(self, call, time):\n",
    "        \n",
    "        distance = get_distance(self.origin, call.location)\n",
    "        travel_time = get_ambulance_travel_time(distance)\n",
    "        self.update_status(1, self.origin, call.location, time, time + travel_time)\n",
    "        \n",
    "        call.status = self\n",
    "        \n",
    "        \n",
    "    def reach_call_location(self, call, callList):\n",
    "    \n",
    "        atlocation_servicetime = gen_atlocation_service_time()\n",
    "        self.update_status(2, call.location, call.location, \n",
    "                           copy.deepcopy(self.endtime), copy.deepcopy(self.endtime) + atlocation_servicetime)\n",
    "\n",
    "        callList.remove(call)\n",
    "    \n",
    "    def transport_to_hospital(self, city):\n",
    "        \n",
    "        #transport to nearest hospital\n",
    "        \n",
    "        hospital_list = city.hospital_location\n",
    "        \n",
    "        min_distance = city.width + city.height\n",
    "        nearest_hospital = hospital_list[0]\n",
    "        for hospital in hospital_list:\n",
    "            distance = get_distance(self.origin, hospital)\n",
    "            if distance < nearest_distance:\n",
    "                min_distance = distance\n",
    "                nearest_hospital = hospital\n",
    "        \n",
    "        travel_time = get_ambulance_travel_time(min_distance)\n",
    "        self.update_status(3, self.origin, hospital, \n",
    "                           copy.deepcopy(self.endtime), copy.deepcopy(self.endtime) + travel_time)\n",
    "        \n",
    "    def reach_hospital(self):\n",
    "        hospital_servicetime = gen_athospital_service_time()\n",
    "        self.update_status(4, copy.deepcopy(self.destination), copy.deepcopy(self.destination), \n",
    "                           copy.deepcopy(self.endtime), copy.deepcopy(self.endtime) + hospital_servicetime)\n",
    "\n",
    "\n"
   ]
  },
  {
   "cell_type": "code",
   "execution_count": 11,
   "metadata": {},
   "outputs": [],
   "source": [
    "def arrival(ambulanceList, callList, time_arrival, M):\n",
    "    if len(callList) >= M:\n",
    "        return\n",
    "    \n",
    "    call = Call(gen_call_arrival_loc(city), gen_call_arrival_time())\n",
    "    callList.append(call)\n",
    "    \n",
    "    min_distance = 15\n",
    "    assign = -1\n",
    "    index = 0\n",
    "    \n",
    "    nearest_distance = 15\n",
    "    for ambulance in ambulanceList:\n",
    "\n",
    "        if ambulance.status == 0:\n",
    "            distance = get_distance(ambulance.origin, call.location)\n",
    "            if distance < nearest_distance:\n",
    "                nearest_distance = distance\n",
    "                assign = index\n",
    "\n",
    "        index = index + 1\n",
    "    \n",
    "    if assign > -1:\n",
    "        # when the call arrives, there are ambulances idle at base, so assign the call to the nearest ambulance\n",
    "        ambulanceList[assign].assign_to_call(call, time_arrival)\n",
    "    \n",
    "    time_arrival = time_arrival + call.interarrival_time\n",
    "    \n",
    "    return ambulanceList, callList, time_arrival"
   ]
  },
  {
   "cell_type": "code",
   "execution_count": 12,
   "metadata": {},
   "outputs": [],
   "source": [
    "def get_next_event(time_arrival, ambulanceList, callList, city, M):\n",
    "    \n",
    "    ambulanceEndTime_min = np.inf\n",
    "    index_min = -1\n",
    "    index = 0\n",
    "    for ambulance in ambulanceList:\n",
    "        if ambulance.endtime < ambulanceEndTime_min:\n",
    "            ambulanceEndTime_min = ambulance.endtime\n",
    "            index_min = index\n",
    "        \n",
    "        index = index + 1\n",
    "    \n",
    "    next_event_time = min(time_arrival, ambulanceEndTime_min)\n",
    "    \n",
    "    if next_event_time == time_arrival:\n",
    "        ambulanceList, callList, time_arrival = arrival(ambulanceList, callList, time_arrival, M)\n",
    "    else:\n",
    "        if ambulanceList[index_min] == 1:\n",
    "            call = callList[0]\n",
    "            ambulanceList[index_min].reach_call_location(call, callList)\n",
    "        elif ambulanceList[index_min] == 2:\n",
    "            ambulanceList[index_min].transport_to_hospital(city)\n",
    "        elif ambulanceList[index_min] == 3:\n",
    "            ambulanceList[index_min].reach_hospital()\n",
    "        elif ambulanceList[index_min] == 4:\n",
    "            \n",
    "            if len(callList) == 0:\n",
    "                ambulanceList[index_min].redployment()\n",
    "            else:\n",
    "                assign = -1\n",
    "                index = 0\n",
    "                while assign == -1 and index < M:\n",
    "\n",
    "                    if callList[index].status == -1:\n",
    "                        assign = index\n",
    "\n",
    "                    index = index + 1\n",
    "                \n",
    "                if index == M:\n",
    "                    # calls in callList have all been assigned with an ambulance\n",
    "                    ambulanceList[index_min].redployment()\n",
    "                else:\n",
    "                    ambulanceList[index_min].assign_to_call(callList[assign], next_event_time)\n",
    "    \n",
    "    return time_arrival, ambulanceList, callList"
   ]
  },
  {
   "cell_type": "code",
   "execution_count": 13,
   "metadata": {},
   "outputs": [],
   "source": [
    "city = City(10, 5, 2, 4)"
   ]
  },
  {
   "cell_type": "code",
   "execution_count": 14,
   "metadata": {},
   "outputs": [],
   "source": [
    "ambulanceList = [Ambulance(city.base_location[0]), Ambulance(city.base_location[1])]"
   ]
  },
  {
   "cell_type": "code",
   "execution_count": 15,
   "metadata": {},
   "outputs": [],
   "source": [
    "callList = []"
   ]
  },
  {
   "cell_type": "code",
   "execution_count": 16,
   "metadata": {},
   "outputs": [],
   "source": [
    "time_arrival = 0"
   ]
  },
  {
   "cell_type": "code",
   "execution_count": 17,
   "metadata": {},
   "outputs": [],
   "source": [
    "time_arrival, ambulanceList, callList = get_next_event(time_arrival, ambulanceList, callList, city, 3)"
   ]
  },
  {
   "cell_type": "code",
   "execution_count": 18,
   "metadata": {},
   "outputs": [
    {
     "data": {
      "text/plain": [
       "1.4794732990185147"
      ]
     },
     "execution_count": 18,
     "metadata": {},
     "output_type": "execute_result"
    }
   ],
   "source": [
    "time_arrival"
   ]
  },
  {
   "cell_type": "code",
   "execution_count": 19,
   "metadata": {},
   "outputs": [
    {
     "data": {
      "text/plain": [
       "[<__main__.Ambulance at 0x1629d3fe668>, <__main__.Ambulance at 0x1629d3fee48>]"
      ]
     },
     "execution_count": 19,
     "metadata": {},
     "output_type": "execute_result"
    }
   ],
   "source": [
    "ambulanceList"
   ]
  },
  {
   "cell_type": "code",
   "execution_count": 20,
   "metadata": {},
   "outputs": [
    {
     "data": {
      "text/plain": [
       "1"
      ]
     },
     "execution_count": 20,
     "metadata": {},
     "output_type": "execute_result"
    }
   ],
   "source": [
    "ambulanceList[0].status"
   ]
  },
  {
   "cell_type": "code",
   "execution_count": 21,
   "metadata": {},
   "outputs": [
    {
     "data": {
      "text/plain": [
       "<__main__.Ambulance at 0x1629d3fe668>"
      ]
     },
     "execution_count": 21,
     "metadata": {},
     "output_type": "execute_result"
    }
   ],
   "source": [
    "callList[0].status"
   ]
  },
  {
   "cell_type": "code",
   "execution_count": null,
   "metadata": {},
   "outputs": [],
   "source": []
  }
 ],
 "metadata": {
  "kernelspec": {
   "display_name": "Python 3",
   "language": "python",
   "name": "python3"
  },
  "language_info": {
   "codemirror_mode": {
    "name": "ipython",
    "version": 3
   },
   "file_extension": ".py",
   "mimetype": "text/x-python",
   "name": "python",
   "nbconvert_exporter": "python",
   "pygments_lexer": "ipython3",
   "version": "3.6.10"
  }
 },
 "nbformat": 4,
 "nbformat_minor": 4
}
