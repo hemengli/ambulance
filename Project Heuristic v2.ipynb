{
 "cells": [
  {
   "cell_type": "code",
   "execution_count": 1,
   "metadata": {},
   "outputs": [],
   "source": [
    "import numpy as np\n",
    "import pandas as pd\n",
    "import itertools\n",
    "\n",
    "import copy\n",
    "import sys, os\n",
    "import datetime\n",
    "\n",
    "from scipy.optimize import fsolve\n",
    "from scipy.special import gamma\n"
   ]
  },
  {
   "cell_type": "code",
   "execution_count": 2,
   "metadata": {},
   "outputs": [],
   "source": [
    "# Disable\n",
    "def blockPrint():\n",
    "    sys.stdout = open(os.devnull, 'w')\n",
    "\n",
    "# Restore\n",
    "def enablePrint():\n",
    "    sys.stdout = sys.__stdout__\n",
    "\n"
   ]
  },
  {
   "cell_type": "code",
   "execution_count": 3,
   "metadata": {},
   "outputs": [],
   "source": [
    "class City(object):\n",
    "    \n",
    "    def __init__(self, width, height, hospital_count, subregion_count):\n",
    "        \n",
    "        self.width = width\n",
    "        self.height = height\n",
    "        #for simplicity, subregion_count = base_count\n",
    "        \n",
    "        hospital_x = np.linspace(0, self.width, num = hospital_count + 2)\n",
    "        self.hospital_location = [(hospital_x[i+1], self.height/2) for i in range(hospital_count)]\n",
    "        \n",
    "        self.subregion_count = subregion_count + (subregion_count % 2)\n",
    "        subregion_x = np.linspace(0, self.width, num = int(self.subregion_count/2 + 2))\n",
    "        subregion_y = np.linspace(0, self.height, num = 4)\n",
    "        base_location = [[(subregion_x[i+1], subregion_y[j+1]) for j in range(2)] for i in range(int(self.subregion_count/2))]\n",
    "        self.base_location = list(itertools.chain(*base_location))"
   ]
  },
  {
   "cell_type": "code",
   "execution_count": 4,
   "metadata": {},
   "outputs": [],
   "source": [
    "def gen_call_arrival_loc(city):\n",
    "    return (np.random.uniform(0, city.width),np.random.uniform(0, city.height))"
   ]
  },
  {
   "cell_type": "code",
   "execution_count": 5,
   "metadata": {},
   "outputs": [],
   "source": [
    "def gen_call_arrival_time():\n",
    "    return np.random.exponential(4)"
   ]
  },
  {
   "cell_type": "code",
   "execution_count": 6,
   "metadata": {},
   "outputs": [],
   "source": [
    "def gen_call_priority():\n",
    "    return int(np.random.uniform(0,1) < 0.25)"
   ]
  },
  {
   "cell_type": "code",
   "execution_count": 7,
   "metadata": {},
   "outputs": [],
   "source": [
    "def gen_atlocation_service_time():\n",
    "    return np.random.exponential(12)"
   ]
  },
  {
   "cell_type": "code",
   "execution_count": 8,
   "metadata": {},
   "outputs": [],
   "source": [
    "def weibull_param_relationship(scale, mean, stddev):\n",
    "    return stddev**2/mean**2 - gamma(1 + 2/scale)/(gamma(1+1/scale)**2) + 1\n",
    "\n",
    "def get_weibull_parameters(mean = 30, stddev = 13):\n",
    "    scale = fsolve(weibull_param_relationship, 1,args=(mean, stddev))\n",
    "    shape = mean / gamma(1+1/scale)\n",
    "    \n",
    "    return scale, shape\n",
    "\n",
    "def gen_athospital_service_time():\n",
    "    scale, shape = get_weibull_parameters(mean = 30, stddev = 13)\n",
    "    return (scale * np.random.weibull(shape))[0]"
   ]
  },
  {
   "cell_type": "code",
   "execution_count": 9,
   "metadata": {},
   "outputs": [],
   "source": [
    "class Call(object):\n",
    "    \n",
    "    def __init__(self, call_index, location, time_arrival, interarrival_time, priority = 0):\n",
    "        \n",
    "        self.call_index = call_index\n",
    "        self.location = location\n",
    "        \n",
    "        #initialize the call to be unassigned\n",
    "        #-1-unassigned, 0 to (N-1) assigned ambulance index \n",
    "        self.status = -1\n",
    "        self.arrival_time = time_arrival\n",
    "        self.next_arrival_time = self.arrival_time + interarrival_time\n",
    "        self.priority = priority"
   ]
  },
  {
   "cell_type": "code",
   "execution_count": 10,
   "metadata": {},
   "outputs": [],
   "source": [
    "def get_distance(location1, location2):\n",
    "    \n",
    "    distance = np.abs(location1[0] - location2[0]) + np.abs(location1[1] - location2[1])\n",
    "    return distance"
   ]
  },
  {
   "cell_type": "code",
   "execution_count": 11,
   "metadata": {},
   "outputs": [],
   "source": [
    "def get_ambulance_travel_time(distance, speed = 30):\n",
    "    return distance/speed"
   ]
  },
  {
   "cell_type": "code",
   "execution_count": 12,
   "metadata": {},
   "outputs": [],
   "source": [
    "class Ambulance(object):\n",
    "    \n",
    "    def __init__(self, base, speed = 30):\n",
    "        \n",
    "        #fix the ambulance's home base\n",
    "        self.base = base\n",
    "        \n",
    "        #set the ambulance's travel speed\n",
    "        \n",
    "        #initialize the ambulance idle at home base\n",
    "        \n",
    "        #status code: 0-idle at base, 1-going to scene of call, 2-serving at scene of call, 3-going to hospital\n",
    "        #4-transferring patient at hospital, 5-returning to base\n",
    "        self.status = 0\n",
    "        self.origin = base\n",
    "        self.destination = base # if destination = origin, ambulance is stationary\n",
    "        self.time = 0\n",
    "        self.endtime = np.inf\n",
    "        self.call = -1 # -1 if not assigned to any call\n",
    "        \n",
    "        \n",
    "    def update_status(self, status, origin, destination, time, endtime):\n",
    "        self.status = status\n",
    "        \n",
    "        self.origin = origin\n",
    "        self.destination = destination\n",
    "        self.time = time\n",
    "        self.endtime = endtime\n",
    "        \n",
    "    def redployment(self, speed, base = None):\n",
    "        \n",
    "        if base is None:\n",
    "            base = self.base\n",
    "        \n",
    "        #current heuristic: return to home base\n",
    "        distance = get_distance(self.origin, base)\n",
    "        travel_time = get_ambulance_travel_time(distance, speed)\n",
    "        self.update_status(5, self.origin, self.base, copy.deepcopy(self.endtime), copy.deepcopy(self.endtime) + travel_time)\n",
    "        self.call = -1\n",
    "        \n",
    "    def return_to_base(self):\n",
    "        self.update_status(0, self.base, self.base, copy.deepcopy(self.endtime), np.inf)\n",
    "        \n",
    "        \n",
    "    def assign_to_call(self, call, time, index, speed):\n",
    "        \n",
    "        distance = get_distance(self.origin, call.location)\n",
    "        travel_time = get_ambulance_travel_time(distance, speed)\n",
    "        self.update_status(1, self.origin, call.location, time, time + travel_time)\n",
    "        self.call = call.call_index # updated assigned call index\n",
    "        \n",
    "        call.status = index\n",
    "        \n",
    "        \n",
    "    def reach_call_location(self, call, callList):\n",
    "    \n",
    "        atlocation_servicetime = gen_atlocation_service_time()\n",
    "        self.update_status(2, call.location, call.location, \n",
    "                           copy.deepcopy(self.endtime), copy.deepcopy(self.endtime) + atlocation_servicetime)\n",
    "\n",
    "        callList.pop(call.call_index)\n",
    "    \n",
    "    def transport_to_hospital(self, city, speed):\n",
    "        \n",
    "        #transport to nearest hospital\n",
    "        \n",
    "        hospital_list = city.hospital_location\n",
    "        \n",
    "        min_distance = np.inf\n",
    "        nearest_hospital = hospital_list[0]\n",
    "        for hospital in hospital_list:\n",
    "            distance = get_distance(self.origin, hospital)\n",
    "            if distance < min_distance:\n",
    "                min_distance = distance\n",
    "                nearest_hospital = hospital\n",
    "        \n",
    "        travel_time = get_ambulance_travel_time(min_distance, speed)\n",
    "        self.update_status(3, self.origin, hospital, \n",
    "                           copy.deepcopy(self.endtime), copy.deepcopy(self.endtime) + travel_time)\n",
    "        \n",
    "    def reach_hospital(self):\n",
    "        hospital_servicetime = gen_athospital_service_time()\n",
    "        self.update_status(4, copy.deepcopy(self.destination), copy.deepcopy(self.destination), \n",
    "                           copy.deepcopy(self.endtime), copy.deepcopy(self.endtime) + hospital_servicetime)\n",
    "\n",
    "\n"
   ]
  },
  {
   "cell_type": "code",
   "execution_count": 13,
   "metadata": {},
   "outputs": [],
   "source": [
    "def arrival(call_index, ambulanceList, callList, time_arrival, M, timeline, speed):\n",
    "    \n",
    "    call = Call(call_index, gen_call_arrival_loc(city), time_arrival, \n",
    "                gen_call_arrival_time(), priority = gen_call_priority())\n",
    "    \n",
    "    if len(callList) >= M:\n",
    "        # print(\"New call arrived. No more capacity. Reject call.\")\n",
    "        i = timeline.shape[0]\n",
    "        timeline.loc[i] = [call_index, '', 7, time_arrival]\n",
    "    \n",
    "    else:\n",
    "    \n",
    "        # print(\"New call arrived. Add to call list.\")\n",
    "        callList[call_index] = call\n",
    "\n",
    "        assign = -1\n",
    "        index = 0\n",
    "\n",
    "        nearest_distance = np.inf\n",
    "        for ambulance in ambulanceList:\n",
    "\n",
    "            if ambulance.status == 0:\n",
    "                distance = get_distance(ambulance.origin, call.location)\n",
    "                if distance < nearest_distance:\n",
    "                    nearest_distance = distance\n",
    "                    assign = index\n",
    "\n",
    "            index = index + 1\n",
    "\n",
    "        if assign > -1:\n",
    "            # when the call arrives, there are ambulances idle at base, so assign the call to the nearest ambulance\n",
    "            # print(\"Idle ambulance at base available. Assign. Now travelling to call location.\")\n",
    "            i = timeline.shape[0]\n",
    "            timeline.loc[i] = [call_index, assign, 1, time_arrival]\n",
    "            ambulanceList[assign].assign_to_call(call, time_arrival, assign, speed)\n",
    "\n",
    "        # else:\n",
    "            # print(\"No available ambulance at the moment.\")\n",
    "            \n",
    "    time_arrival = call.next_arrival_time\n",
    "    \n",
    "    return ambulanceList, callList, time_arrival, timeline"
   ]
  },
  {
   "cell_type": "code",
   "execution_count": 14,
   "metadata": {},
   "outputs": [],
   "source": [
    "def get_first(ambulance, callList, M, k):\n",
    "    \n",
    "    call_index = -1\n",
    "    min_arrival_time = np.inf\n",
    "    for call_id, call in callList.items():\n",
    "        if call.status == -1:\n",
    "            call_time = call.arrival_time\n",
    "            if call_time < min_arrival_time:\n",
    "                call_index = call_id\n",
    "                min_arrival_time = call_time\n",
    "        \n",
    "    return call_index\n"
   ]
  },
  {
   "cell_type": "code",
   "execution_count": 15,
   "metadata": {},
   "outputs": [],
   "source": [
    "def get_first_highpriority(ambulance, callList, M, k):\n",
    "    \n",
    "    # Assign based on FCFS within priority\n",
    "    # assume only high and low, two levels or priority\n",
    "    \n",
    "    \n",
    "    high_call_index = -1\n",
    "    low_call_index = -1\n",
    "    \n",
    "    high_min_arrival_time = np.inf\n",
    "    low_min_arrival_time = np.inf\n",
    "    for call_id, call in callList.items():\n",
    "        if call.status == -1:\n",
    "            call_time = call.arrival_time\n",
    "            \n",
    "            if call.priority == 1:\n",
    "                if call_time < high_min_arrival_time:\n",
    "                    high_call_index = call_id\n",
    "                    high_min_arrival_time = call_time\n",
    "            \n",
    "            else:\n",
    "                if call_time < low_min_arrival_time:\n",
    "                    low_call_index = call_id\n",
    "                    low_min_arrival_time = call_time\n",
    "            \n",
    "\n",
    "    if high_call_index > -1:\n",
    "        return high_call_index\n",
    "    else:\n",
    "        return low_call_index\n",
    "    "
   ]
  },
  {
   "cell_type": "code",
   "execution_count": 16,
   "metadata": {},
   "outputs": [],
   "source": [
    "def get_nearest(ambulance, callList, M, k):\n",
    "    \n",
    "    ambulance_loc = ambulance.origin\n",
    "    \n",
    "    min_distance = np.inf\n",
    "    call_index = -1\n",
    "    \n",
    "    for call_id, call in callList.items():\n",
    "        if call.status == -1:\n",
    "            distance = get_distance(call.location, ambulance_loc)\n",
    "            if distance < min_distance:\n",
    "                call_index = call_id\n",
    "                min_distance = distance\n",
    "    \n",
    "    if call_index > -1:\n",
    "        # there is some unassigned call in queue\n",
    "        return call_index\n",
    "    else:\n",
    "        # all calls in queue have been assigned\n",
    "        return -1"
   ]
  },
  {
   "cell_type": "code",
   "execution_count": 17,
   "metadata": {},
   "outputs": [],
   "source": [
    "def get_nearest_threshold(ambulance, callList, M, k):\n",
    "    # only serve unassigned calls within k distance from the ambulance\n",
    "    \n",
    "    ambulance_loc = ambulance.origin\n",
    "    \n",
    "    min_distance = k\n",
    "    call_index = -1\n",
    "    \n",
    "    for call_id, call in callList.items():\n",
    "        if call.status == -1:\n",
    "            distance = get_distance(call.location, ambulance_loc)\n",
    "            if distance <= min_distance:\n",
    "                call_index = call_id\n",
    "                min_distance = distance\n",
    "    \n",
    "    if call_index > -1:\n",
    "        # there is some unassigned call in queue\n",
    "        return call_index\n",
    "    else:\n",
    "        # all calls in queue have been assigned\n",
    "        return -1"
   ]
  },
  {
   "cell_type": "code",
   "execution_count": 18,
   "metadata": {},
   "outputs": [],
   "source": [
    "def get_nearest_threshold_else_fcfs(ambulance, callList, M, k):\n",
    "    # only serve unassigned calls within k distance from the ambulance\n",
    "    # if no unassigned calls within the threshold, perform according to fcfs\n",
    "    \n",
    "    ambulance_loc = ambulance.origin\n",
    "    \n",
    "    min_distance = k\n",
    "    call_index = -1\n",
    "    min_arrival_time = np.inf\n",
    "    \n",
    "    for call_id, call in callList.items():\n",
    "        if call.status == -1:\n",
    "            distance = get_distance(call.location, ambulance_loc)\n",
    "            if distance < min_distance:\n",
    "                call_index = call_id\n",
    "                min_distance = distance\n",
    "            elif distance > k:\n",
    "                if call.arrival_time < min_arrival_time:\n",
    "                    call_index = call_id\n",
    "                    min_arrival_time = call.arrival_time\n",
    "    \n",
    "    if call_index > -1:\n",
    "        # there is some unassigned call in queue\n",
    "        return call_index\n",
    "    else:\n",
    "        # all calls in queue have been assigned\n",
    "        return -1"
   ]
  },
  {
   "cell_type": "code",
   "execution_count": 19,
   "metadata": {},
   "outputs": [],
   "source": [
    "def get_nearest_highpriority(ambulance, callList, M, k):\n",
    "    \n",
    "    ambulance_loc = ambulance.origin\n",
    "    \n",
    "    min_high_distance = np.inf\n",
    "    min_low_distance = np.inf\n",
    "    high_call_index = -1\n",
    "    low_call_index = -1\n",
    "    \n",
    "    for call_id, call in callList.items():\n",
    "        if call.status == -1:\n",
    "            distance = get_distance(call.location, ambulance_loc)\n",
    "            \n",
    "            if call.priority == 1:\n",
    "                if distance < min_high_distance:\n",
    "                    high_call_index = call_id\n",
    "                    min_high_distance = distance\n",
    "            else:\n",
    "                if distance < min_low_distance:\n",
    "                    low_call_index = call_id\n",
    "                    min_low_distance = distance\n",
    "    \n",
    "    if high_call_index > -1:\n",
    "        return high_call_index\n",
    "    elif low_call_index > -1:\n",
    "        return low_call_index\n",
    "    else:\n",
    "        return -1"
   ]
  },
  {
   "cell_type": "code",
   "execution_count": 20,
   "metadata": {},
   "outputs": [],
   "source": [
    "def get_next_event(time_arrival, ambulanceList, callList, city, M, timeline, policy, speed, time_threshold):\n",
    "    \n",
    "    ambulanceEndTime_min = np.inf\n",
    "    index_min = -1\n",
    "    index = 0\n",
    "    for ambulance in ambulanceList:\n",
    "        if ambulance.endtime < ambulanceEndTime_min:\n",
    "            ambulanceEndTime_min = copy.deepcopy(ambulance.endtime)\n",
    "            index_min = index\n",
    "        \n",
    "        index = index + 1\n",
    "    \n",
    "    next_event_time = min(time_arrival, ambulanceEndTime_min)\n",
    "    \n",
    "    if next_event_time == time_arrival:\n",
    "        # print(\"New call arrived.\")\n",
    "        i = timeline.shape[0]\n",
    "        all_call = set(timeline['Call'])\n",
    "        call_index = len(all_call) if '' not in all_call else len(all_call)-1\n",
    "        timeline.loc[i] = [call_index, '', 0, time_arrival]\n",
    "        ambulanceList, callList, time_arrival, timeline = arrival(call_index, ambulanceList, callList, time_arrival, M, timeline, speed)\n",
    "        \n",
    "    else:\n",
    "        if ambulanceList[index_min].status == 1:\n",
    "            # print(\"Now reach call location. Start at-location treatment. Remove call from call list.\")\n",
    "            call_index = ambulanceList[index_min].call\n",
    "            call = callList[call_index]\n",
    "            i = timeline.shape[0]\n",
    "            timeline.loc[i] = [call_index, index_min, 2, next_event_time]\n",
    "            ambulanceList[index_min].reach_call_location(call, callList)\n",
    "            \n",
    "        elif ambulanceList[index_min].status == 2:\n",
    "            # print(\"Now finish at-location treatment. Start going to hospital.\")\n",
    "            call_index = ambulanceList[index_min].call\n",
    "            i = timeline.shape[0]\n",
    "            timeline.loc[i] = [call_index, index_min, 3, next_event_time]\n",
    "            ambulanceList[index_min].transport_to_hospital(city, speed)\n",
    "            \n",
    "        elif ambulanceList[index_min].status == 3:\n",
    "            # print(\"Now reach hospital. Start transferring patient to hospital.\")\n",
    "            call_index = ambulanceList[index_min].call\n",
    "            i = timeline.shape[0]\n",
    "            timeline.loc[i] = [call_index, index_min, 4, next_event_time]\n",
    "            ambulanceList[index_min].reach_hospital()\n",
    "            \n",
    "        elif ambulanceList[index_min].status == 4:\n",
    "            \n",
    "            # print(\"Now finish transfering patient to hospital. Decide next step (assign to call or return to base).\")\n",
    "            call_index = ambulanceList[index_min].call\n",
    "            i = timeline.shape[0]\n",
    "            timeline.loc[i] = [call_index, index_min, 5, next_event_time]\n",
    "            \n",
    "            if len(callList) == 0:\n",
    "                # print(\"Return to base.\")\n",
    "                ambulanceList[index_min].redployment(speed)\n",
    "            else:\n",
    "                # print(\"Call waiting. Assign to call in queue according to policy.\")\n",
    "                call_index = policy(ambulanceList[index_min], callList, M, time_threshold * speed/2)\n",
    "                \n",
    "                if call_index == -1:\n",
    "                    # calls in callList have all been assigned with an ambulance, or exceed distance threshold\n",
    "                    ambulanceList[index_min].redployment(speed)\n",
    "                else:\n",
    "                    i = timeline.shape[0]\n",
    "                    timeline.loc[i] = [call_index, index_min, 1, next_event_time]\n",
    "                    ambulanceList[index_min].assign_to_call(callList[call_index], next_event_time, index_min, speed)\n",
    "                    \n",
    "        elif ambulanceList[index_min].status == 5:\n",
    "            i = timeline.shape[0]\n",
    "            timeline.loc[i] = [-1, index_min, 6, next_event_time]\n",
    "            # print(\"Now reployed ambulance reach base. Start idling.\")\n",
    "            ambulanceList[index_min].return_to_base()\n",
    "    \n",
    "    return time_arrival, ambulanceList, callList, timeline, next_event_time"
   ]
  },
  {
   "cell_type": "code",
   "execution_count": 21,
   "metadata": {},
   "outputs": [],
   "source": [
    "def print_ambulance(ambulanceList):\n",
    "    statusList = []\n",
    "    originList = []\n",
    "    destinationList = []\n",
    "    timeList = []\n",
    "    endtimeList = []\n",
    "    \n",
    "    for ambulance in ambulanceList:\n",
    "        statusList.append(ambulance.status)\n",
    "        originList.append(ambulance.origin)\n",
    "        destinationList.append(ambulance.destination)\n",
    "        timeList.append(ambulance.time)\n",
    "        endtimeList.append(ambulance.endtime)\n",
    "    \n",
    "    return statusList, originList, destinationList, timeList, endtimeList\n",
    "    "
   ]
  },
  {
   "cell_type": "code",
   "execution_count": 22,
   "metadata": {},
   "outputs": [],
   "source": [
    "def print_call(callList):\n",
    "    \n",
    "    statusList = []\n",
    "    locationList = []\n",
    "    timeList = []\n",
    "    \n",
    "    for call_index in callList:\n",
    "        call = callList[call_index]\n",
    "        statusList.append(call.status)\n",
    "        locationList.append(call.location)\n",
    "        timeList.append(call.arrival_time)\n",
    "    \n",
    "    return statusList, locationList, timeList"
   ]
  },
  {
   "cell_type": "code",
   "execution_count": 23,
   "metadata": {},
   "outputs": [],
   "source": [
    "def get_unreachable_calls(time, ambulanceList, callList, delta, speed = 10):\n",
    "    \n",
    "    unreach_calls = 0\n",
    "    \n",
    "    for ambulance in ambulanceList:\n",
    "        if ambulance.status == 1:\n",
    "            target_call = callList[ambulance.call]\n",
    "            target_threshold = target_call.arrival_time + delta\n",
    "            reach_outside = ambulance.endtime > target_threshold\n",
    "            unreach_calls +=1\n",
    "    \n",
    "    return unreach_calls\n",
    "            "
   ]
  },
  {
   "cell_type": "code",
   "execution_count": 24,
   "metadata": {},
   "outputs": [],
   "source": [
    "def get_ambulance_current_loc(ambulance, time):\n",
    "    \n",
    "    ambulance_origin = ambulance.origin\n",
    "    ambulance_destination = ambulance.destination\n",
    "    \n",
    "    ambulance_start = ambulance.time\n",
    "    ambulance_end = ambulance.endtime\n",
    "    \n",
    "    current_time = time\n",
    "    travel_ratio = (current_time - ambulance_start) / (ambulance_end - ambulance_start)\n",
    "    \n",
    "    current_location = ((ambulance_destination[0] - ambulance_origin[0]) * travel_ratio + ambulance_origin[0],\n",
    "                        (ambulance_destination[1] - ambulance_origin[1]) * travel_ratio + ambulance_origin[1])\n",
    "    \n",
    "    return current_location"
   ]
  },
  {
   "cell_type": "code",
   "execution_count": 25,
   "metadata": {},
   "outputs": [],
   "source": [
    "def get_uncovered_calls(time, ambulanceList, callList, delta, city, speed = 10):\n",
    "    \n",
    "    uncovered_base = []\n",
    "    for base in city.base_location:\n",
    "        cover_calls = 0\n",
    "        for ambulance in ambulanceList:\n",
    "            if ambulance.status == 0 or ambulance.status == 5:\n",
    "                current_location = get_ambulance_current_loc(ambulance, time)\n",
    "                distance_to_base = get_distance(current_location, base)\n",
    "                time_to_base = get_ambulance_travel_time(distance_to_base, speed = speed)\n",
    "                \n",
    "                if time_to_base < delta:\n",
    "                    cover_calls += 1\n",
    "                \n",
    "        \n",
    "        if cover_calls == 0:\n",
    "            uncovered_base.append(1)\n",
    "        else:\n",
    "            uncovered_base.append(0)\n",
    "            \n",
    "    return uncovered_base\n",
    "            "
   ]
  },
  {
   "cell_type": "code",
   "execution_count": 26,
   "metadata": {},
   "outputs": [],
   "source": [
    "def get_jobcount(timeline):\n",
    "    timediff = np.append(np.diff(timeline['Timestamp']), 0)\n",
    "    timeline['timediff'] = timediff\n",
    "    \n",
    "    n = timeline.shape[0]\n",
    "    numCalls = np.zeros(n)\n",
    "    \n",
    "    count = 0\n",
    "    for i in range(n):\n",
    "        event = timeline.iloc[i]['Event']\n",
    "        if event == 0:\n",
    "            count += 1\n",
    "        elif event == 5 or event == 7: \n",
    "            count -= 1\n",
    "            \n",
    "        if count <0:\n",
    "            print(\"hi\")\n",
    "            \n",
    "        numCalls[i] = count\n",
    "        \n",
    "    numCalls[-1] = numCalls[n-2]\n",
    "    timeline['numCalls'] = numCalls\n",
    "    return timeline"
   ]
  },
  {
   "cell_type": "code",
   "execution_count": 27,
   "metadata": {},
   "outputs": [],
   "source": [
    "def get_jobs(timeline):\n",
    "    total = max(timeline['Call'])\n",
    "    \n",
    "    arrival = np.zeros(total+1)*np.nan\n",
    "    assign = np.zeros(total+1)*np.nan\n",
    "    reach = np.zeros(total+1)*np.nan\n",
    "    onsite = np.zeros(total+1)*np.nan\n",
    "    transfer = np.zeros(total+1)*np.nan\n",
    "    finish = np.zeros(total+1)*np.nan\n",
    "    \n",
    "    for i in range(total + 1):\n",
    "        c = timeline[timeline['Call'] == i]\n",
    "        n = c.shape[0]\n",
    "#         print(n)\n",
    "        for index, row in c.iterrows():\n",
    "            t = row['Timestamp']\n",
    "            event = row['Event']\n",
    "            if event == 0:\n",
    "                arrival[i] = t\n",
    "            elif event == 1:\n",
    "                assign[i] = t if n > 1 else np.nan\n",
    "            elif event == 2:\n",
    "                reach[i] = t if n > 2 else np.nan\n",
    "            elif event == 3:\n",
    "                onsite[i] = t if n > 3 else np.nan\n",
    "            elif event == 4:\n",
    "                transfer[i] = t if n > 4 else np.nan\n",
    "            elif event == 5:\n",
    "                finish[i] = t if n > 5 else np.nan\n",
    "            elif event == 7:\n",
    "                finish[i] = t\n",
    "#         print(n, arrival[i], assign[i], reach[i], onsite[i], transfer[i], finish[i])\n",
    "        \n",
    "    columns = ['arrival_time', 'assigned_time', 'reach_patient', 'finish_onsite', 'reach_hospital', 'finish']\n",
    "    data = list(zip(arrival, assign, reach, onsite, transfer, finish))\n",
    "    df = pd.DataFrame(data, columns=columns)\n",
    "    \n",
    "    df['waiting_time'] = df['assigned_time'] - df['arrival_time']\n",
    "    df['total_time'] = df['finish'] - df['arrival_time']\n",
    "    return df"
   ]
  },
  {
   "cell_type": "code",
   "execution_count": 28,
   "metadata": {},
   "outputs": [],
   "source": [
    "def performance_metric(timeline, df, target, c = 4):\n",
    "    \n",
    "    t = timeline.iloc[-1]['Timestamp']\n",
    "    P = timeline.groupby('numCalls')['timediff'].sum() / t\n",
    "    \n",
    "    expectn = sum(P * P.index)\n",
    "    try:\n",
    "        expectw = sum(P[c+1:] * (P.index[c+1:]-c))\n",
    "    except:\n",
    "        expectw = sum(P[c+1:] * (P.index[c:]-c))\n",
    "        \n",
    "    utilization = (expectn - expectw) / c\n",
    "    \n",
    "    print('\\nUtilization:', utilization)\n",
    "    print('Expected number of jobs in system:', expectn)\n",
    "    print('Expected number of jobs in queue:', expectw)\n",
    "    \n",
    "    df_complete = df.dropna(axis=0)\n",
    "    print('Expected time in queue:', np.mean(df_complete['waiting_time']))\n",
    "    print('Expected time in system:', np.mean(df_complete['total_time']))\n",
    "    print(\"Total completed patients: \",  len(df_complete))\n",
    "    \n",
    "    assigned = df[df['assigned_time'] > 0]\n",
    "    print(\"Total assigned patients: \", len(assigned))\n",
    "    count = 0\n",
    "    for index, row in assigned.iterrows():\n",
    "        if np.isnan(row['reach_patient']) or row['reach_patient']-row['arrival_time'] > target:\n",
    "            count += 1\n",
    "    \n",
    "    print(\"Total unreachable calls:\", count)\n",
    "    "
   ]
  },
  {
   "cell_type": "markdown",
   "metadata": {},
   "source": [
    "# Set up the City"
   ]
  },
  {
   "cell_type": "code",
   "execution_count": 29,
   "metadata": {},
   "outputs": [],
   "source": [
    "city_dimension = 150 # assume square\n",
    "num_hospital = 2\n",
    "num_base = 6\n",
    "time_threshold = 9\n",
    "call_list_threshold = 20\n",
    "speed = 30\n",
    "\n",
    "city = City(city_dimension, city_dimension, num_hospital, num_base)\n",
    "ambulanceList = [Ambulance(city.base_location[i]) for i in range(len(city.base_location))]\n",
    "callList = {}\n",
    "time_arrival = 0\n",
    "timeline = pd.DataFrame(columns = ['Call', 'Ambulance', 'Event', 'Timestamp'])"
   ]
  },
  {
   "cell_type": "markdown",
   "metadata": {},
   "source": [
    "# Heuristic Policies"
   ]
  },
  {
   "cell_type": "code",
   "execution_count": 30,
   "metadata": {},
   "outputs": [],
   "source": [
    "# blockPrint()\n",
    "\n",
    "start = datetime.datetime.now()\n",
    "# unreach_callList = []\n",
    "# uncovered_baseList = []\n",
    "time = 0\n",
    "horizon = 60*24*4\n",
    "while time < horizon:\n",
    "    time_arrival, ambulanceList, callList, timeline, time = \\\n",
    "    get_next_event(time_arrival, ambulanceList, callList, city, call_list_threshold, timeline, get_first, speed, time_threshold)\n",
    "    # print(len(callList))\n",
    "    \n",
    "    # unreach_call = get_unreachable_calls(time, ambulanceList, callList, time_threshold)\n",
    "    # uncovered_base = get_uncovered_calls(time, ambulanceList, callList, time_threshold, city)\n",
    "    \n",
    "    # unreach_callList.append(unreach_call)\n",
    "    # uncovered_baseList.append(uncovered_base)\n",
    "\n",
    "end = datetime.datetime.now()\n",
    "\n",
    "    \n",
    "# policies are:\n",
    "# get_first, get_first_highpriority, \n",
    "# get_nearest, get_nearest_highpriority, get_nearest_threshold, get_nearest_threshold_else_fcfs, "
   ]
  },
  {
   "cell_type": "code",
   "execution_count": 31,
   "metadata": {},
   "outputs": [
    {
     "name": "stdout",
     "output_type": "stream",
     "text": [
      "22.667255\n"
     ]
    }
   ],
   "source": [
    "print((end - start).total_seconds())"
   ]
  },
  {
   "cell_type": "code",
   "execution_count": 32,
   "metadata": {},
   "outputs": [],
   "source": [
    "# enablePrint()"
   ]
  },
  {
   "cell_type": "code",
   "execution_count": 33,
   "metadata": {},
   "outputs": [
    {
     "name": "stdout",
     "output_type": "stream",
     "text": [
      "Next Arrival:  5764.061172619193\n",
      "Ambulance List Print: \n",
      "Status List:  [0, 2, 0, 2, 0, 3]\n",
      "Origin List:  [(37.5, 50.0), (50.8854426247141, 148.85852507729146), (75.0, 50.0), (89.94588622600045, 148.87786875774742), (112.5, 50.0), (128.52250568809987, 138.81906152053105)]\n",
      "Destination List:  [(37.5, 50.0), (50.8854426247141, 148.85852507729146), (75.0, 50.0), (89.94588622600045, 148.87786875774742), (112.5, 50.0), (100.0, 75.0)]\n",
      "Event start time List:  [5759.080994420355, 5755.967065881709, 5756.912314270811, 5760.427657530598, 5753.633627990632, 5759.668144573247]\n",
      "Event end time List:  [inf, 5785.06247130026, inf, 5773.258402912271, inf, 5762.746196813535]\n",
      "Call List Print: \n",
      "Status List:  []\n",
      "Location List:  []\n",
      "Arrival time List:  []\n"
     ]
    }
   ],
   "source": [
    "# time_arrival, ambulanceList, callList, timeline, time = get_next_event(time_arrival, ambulanceList, callList, city, 3, timeline, get_nearest_unassigned_threshold)\n",
    "am_statusList, am_originList, am_destinationList, am_timeList, am_endtimeList = print_ambulance(ambulanceList)\n",
    "cl_statusList, cl_locationList, cl_timeList = print_call(callList)\n",
    "\n",
    "print(\"Next Arrival: \", time_arrival)\n",
    "\n",
    "print(\"Ambulance List Print: \")\n",
    "print(\"Status List: \", am_statusList)\n",
    "print(\"Origin List: \", am_originList)\n",
    "print(\"Destination List: \", am_destinationList)\n",
    "print(\"Event start time List: \", am_timeList)\n",
    "print(\"Event end time List: \", am_endtimeList)\n",
    "\n",
    "print(\"Call List Print: \")\n",
    "print(\"Status List: \", cl_statusList)\n",
    "print(\"Location List: \", cl_locationList)\n",
    "print(\"Arrival time List: \", cl_timeList)"
   ]
  },
  {
   "cell_type": "code",
   "execution_count": 34,
   "metadata": {},
   "outputs": [],
   "source": [
    "timeline = get_jobcount(timeline)"
   ]
  },
  {
   "cell_type": "code",
   "execution_count": 35,
   "metadata": {},
   "outputs": [],
   "source": [
    "df = get_jobs(timeline)"
   ]
  },
  {
   "cell_type": "code",
   "execution_count": 36,
   "metadata": {},
   "outputs": [
    {
     "name": "stdout",
     "output_type": "stream",
     "text": [
      "\n",
      "Utilization: 0.7818558116110714\n",
      "Expected number of jobs in system: 6.119196103296766\n",
      "Expected number of jobs in queue: 1.4280612336303375\n",
      "Expected time in queue: 5.830549921022461\n",
      "Expected time in system: 24.265216202317806\n",
      "Total completed patients:  1452\n",
      "Total assigned patients:  1454\n",
      "Total unreachable calls: 441\n"
     ]
    }
   ],
   "source": [
    "performance_metric(timeline, df, time_threshold, c= num_base)"
   ]
  },
  {
   "cell_type": "markdown",
   "metadata": {},
   "source": [
    "# FCFS with Priority"
   ]
  },
  {
   "cell_type": "code",
   "execution_count": 37,
   "metadata": {},
   "outputs": [],
   "source": [
    "city = City(city_dimension, city_dimension, num_hospital, num_base)\n",
    "ambulanceList = [Ambulance(city.base_location[i]) for i in range(len(city.base_location))]\n",
    "callList = {}\n",
    "time_arrival = 0\n",
    "timeline = pd.DataFrame(columns = ['Call', 'Ambulance', 'Event', 'Timestamp'])"
   ]
  },
  {
   "cell_type": "code",
   "execution_count": 38,
   "metadata": {},
   "outputs": [],
   "source": [
    "# blockPrint()\n",
    "\n",
    "start = datetime.datetime.now()\n",
    "# unreach_callList = []\n",
    "# uncovered_baseList = []\n",
    "time = 0\n",
    "horizon = 60*24*4\n",
    "while time < horizon:\n",
    "    time_arrival, ambulanceList, callList, timeline, time = \\\n",
    "    get_next_event(time_arrival, ambulanceList, callList, city, call_list_threshold, timeline, get_first_highpriority, \n",
    "                   speed, time_threshold)\n",
    "    # print(len(callList))\n",
    "    \n",
    "    # unreach_call = get_unreachable_calls(time, ambulanceList, callList, time_threshold)\n",
    "    # uncovered_base = get_uncovered_calls(time, ambulanceList, callList, time_threshold, city)\n",
    "    \n",
    "    # unreach_callList.append(unreach_call)\n",
    "    # uncovered_baseList.append(uncovered_base)\n",
    "\n",
    "end = datetime.datetime.now()\n",
    "\n",
    "    \n",
    "# policies are:\n",
    "# get_first, get_first_highpriority, \n",
    "# get_nearest, get_nearest_highpriority, get_nearest_threshold, get_nearest_threshold_else_fcfs, "
   ]
  },
  {
   "cell_type": "code",
   "execution_count": 39,
   "metadata": {},
   "outputs": [
    {
     "name": "stdout",
     "output_type": "stream",
     "text": [
      "\n",
      "Utilization: 0.7858148346069186\n",
      "Expected number of jobs in system: 6.3252553838678836\n",
      "Expected number of jobs in queue: 1.6103663762263722\n",
      "Expected time in queue: 6.697772940242278\n",
      "Expected time in system: 25.732234196453202\n",
      "Total completed patients:  1412\n",
      "Total assigned patients:  1417\n",
      "Total unreachable calls: 369\n"
     ]
    }
   ],
   "source": [
    "timeline = get_jobcount(timeline)\n",
    "df = get_jobs(timeline)\n",
    "performance_metric(timeline, df, time_threshold, c= num_base)"
   ]
  },
  {
   "cell_type": "markdown",
   "metadata": {},
   "source": [
    "# Neareset"
   ]
  },
  {
   "cell_type": "code",
   "execution_count": 40,
   "metadata": {},
   "outputs": [],
   "source": [
    "city = City(city_dimension, city_dimension, num_hospital, num_base)\n",
    "ambulanceList = [Ambulance(city.base_location[i]) for i in range(len(city.base_location))]\n",
    "callList = {}\n",
    "time_arrival = 0\n",
    "timeline = pd.DataFrame(columns = ['Call', 'Ambulance', 'Event', 'Timestamp'])"
   ]
  },
  {
   "cell_type": "code",
   "execution_count": 41,
   "metadata": {},
   "outputs": [],
   "source": [
    "# blockPrint()\n",
    "\n",
    "start = datetime.datetime.now()\n",
    "# unreach_callList = []\n",
    "# uncovered_baseList = []\n",
    "time = 0\n",
    "horizon = 60*24*4\n",
    "while time < horizon:\n",
    "    time_arrival, ambulanceList, callList, timeline, time = \\\n",
    "    get_next_event(time_arrival, ambulanceList, callList, city, call_list_threshold, timeline, get_nearest, speed, time_threshold)\n",
    "    # print(len(callList))\n",
    "    \n",
    "    # unreach_call = get_unreachable_calls(time, ambulanceList, callList, time_threshold)\n",
    "    # uncovered_base = get_uncovered_calls(time, ambulanceList, callList, time_threshold, city)\n",
    "    \n",
    "    # unreach_callList.append(unreach_call)\n",
    "    # uncovered_baseList.append(uncovered_base)\n",
    "\n",
    "end = datetime.datetime.now()\n",
    "\n",
    "    \n",
    "# policies are:\n",
    "# get_first, get_first_highpriority, \n",
    "# get_nearest, get_nearest_highpriority, get_nearest_threshold, get_nearest_threshold_else_fcfs, "
   ]
  },
  {
   "cell_type": "code",
   "execution_count": 42,
   "metadata": {},
   "outputs": [
    {
     "name": "stdout",
     "output_type": "stream",
     "text": [
      "\n",
      "Utilization: 0.7953867891698692\n",
      "Expected number of jobs in system: 6.1387948408830715\n",
      "Expected number of jobs in queue: 1.3664741058638568\n",
      "Expected time in queue: 5.51787188745256\n",
      "Expected time in system: 24.124704892704887\n",
      "Total completed patients:  1465\n",
      "Total assigned patients:  1467\n",
      "Total unreachable calls: 302\n"
     ]
    }
   ],
   "source": [
    "timeline = get_jobcount(timeline)\n",
    "df = get_jobs(timeline)\n",
    "performance_metric(timeline, df, time_threshold, c= num_base)"
   ]
  },
  {
   "cell_type": "markdown",
   "metadata": {},
   "source": [
    "# Nearest with High Priority"
   ]
  },
  {
   "cell_type": "code",
   "execution_count": 43,
   "metadata": {},
   "outputs": [],
   "source": [
    "city = City(city_dimension, city_dimension, num_hospital, num_base)\n",
    "ambulanceList = [Ambulance(city.base_location[i]) for i in range(len(city.base_location))]\n",
    "callList = {}\n",
    "time_arrival = 0\n",
    "timeline = pd.DataFrame(columns = ['Call', 'Ambulance', 'Event', 'Timestamp'])"
   ]
  },
  {
   "cell_type": "code",
   "execution_count": 44,
   "metadata": {},
   "outputs": [],
   "source": [
    "# blockPrint()\n",
    "\n",
    "start = datetime.datetime.now()\n",
    "# unreach_callList = []\n",
    "# uncovered_baseList = []\n",
    "time = 0\n",
    "horizon = 60*24*4\n",
    "while time < horizon:\n",
    "    time_arrival, ambulanceList, callList, timeline, time = \\\n",
    "    get_next_event(time_arrival, ambulanceList, callList, city, call_list_threshold, timeline, get_nearest_highpriority, \n",
    "                   speed, time_threshold)\n",
    "    # print(len(callList))\n",
    "    \n",
    "    # unreach_call = get_unreachable_calls(time, ambulanceList, callList, time_threshold)\n",
    "    # uncovered_base = get_uncovered_calls(time, ambulanceList, callList, time_threshold, city)\n",
    "    \n",
    "    # unreach_callList.append(unreach_call)\n",
    "    # uncovered_baseList.append(uncovered_base)\n",
    "\n",
    "end = datetime.datetime.now()\n",
    "\n",
    "    \n",
    "# policies are:\n",
    "# get_first, get_first_highpriority, \n",
    "# get_nearest, get_nearest_highpriority, get_nearest_threshold, get_nearest_threshold_else_fcfs, "
   ]
  },
  {
   "cell_type": "code",
   "execution_count": 45,
   "metadata": {},
   "outputs": [
    {
     "name": "stdout",
     "output_type": "stream",
     "text": [
      "\n",
      "Utilization: 0.7569405014656354\n",
      "Expected number of jobs in system: 5.4435748616666455\n",
      "Expected number of jobs in queue: 0.9019318528728328\n",
      "Expected time in queue: 3.9241499343370942\n",
      "Expected time in system: 22.615859571555912\n",
      "Total completed patients:  1382\n",
      "Total assigned patients:  1387\n",
      "Total unreachable calls: 219\n"
     ]
    }
   ],
   "source": [
    "timeline = get_jobcount(timeline)\n",
    "df = get_jobs(timeline)\n",
    "performance_metric(timeline, df, time_threshold, c= num_base)"
   ]
  },
  {
   "cell_type": "markdown",
   "metadata": {},
   "source": [
    "# Threshold supplemented with FCFS"
   ]
  },
  {
   "cell_type": "code",
   "execution_count": 46,
   "metadata": {},
   "outputs": [],
   "source": [
    "city = City(city_dimension, city_dimension, num_hospital, num_base)\n",
    "ambulanceList = [Ambulance(city.base_location[i]) for i in range(len(city.base_location))]\n",
    "callList = {}\n",
    "time_arrival = 0\n",
    "timeline = pd.DataFrame(columns = ['Call', 'Ambulance', 'Event', 'Timestamp'])"
   ]
  },
  {
   "cell_type": "code",
   "execution_count": 47,
   "metadata": {},
   "outputs": [],
   "source": [
    "# blockPrint()\n",
    "\n",
    "start = datetime.datetime.now()\n",
    "# unreach_callList = []\n",
    "# uncovered_baseList = []\n",
    "time = 0\n",
    "horizon = 60*24*4\n",
    "while time < horizon:\n",
    "    time_arrival, ambulanceList, callList, timeline, time = \\\n",
    "    get_next_event(time_arrival, ambulanceList, callList, city, call_list_threshold, timeline, get_nearest_threshold_else_fcfs, \n",
    "                   speed, time_threshold)\n",
    "    # print(len(callList))\n",
    "    \n",
    "    # unreach_call = get_unreachable_calls(time, ambulanceList, callList, time_threshold)\n",
    "    # uncovered_base = get_uncovered_calls(time, ambulanceList, callList, time_threshold, city)\n",
    "    \n",
    "    # unreach_callList.append(unreach_call)\n",
    "    # uncovered_baseList.append(uncovered_base)\n",
    "\n",
    "end = datetime.datetime.now()\n",
    "\n",
    "    \n",
    "# policies are:\n",
    "# get_first, get_first_highpriority, \n",
    "# get_nearest, get_nearest_highpriority, get_nearest_threshold, get_nearest_threshold_else_fcfs, \n"
   ]
  },
  {
   "cell_type": "code",
   "execution_count": 48,
   "metadata": {},
   "outputs": [
    {
     "name": "stdout",
     "output_type": "stream",
     "text": [
      "\n",
      "Utilization: 0.8235388932541757\n",
      "Expected number of jobs in system: 6.524140579806549\n",
      "Expected number of jobs in queue: 1.582907220281494\n",
      "Expected time in queue: 6.280878869046027\n",
      "Expected time in system: 25.39022501020478\n",
      "Total completed patients:  1479\n",
      "Total assigned patients:  1481\n",
      "Total unreachable calls: 309\n"
     ]
    }
   ],
   "source": [
    "timeline = get_jobcount(timeline)\n",
    "df = get_jobs(timeline)\n",
    "performance_metric(timeline, df, time_threshold, c= num_base)"
   ]
  },
  {
   "cell_type": "code",
   "execution_count": null,
   "metadata": {},
   "outputs": [],
   "source": []
  }
 ],
 "metadata": {
  "kernelspec": {
   "display_name": "Python 3",
   "language": "python",
   "name": "python3"
  },
  "language_info": {
   "codemirror_mode": {
    "name": "ipython",
    "version": 3
   },
   "file_extension": ".py",
   "mimetype": "text/x-python",
   "name": "python",
   "nbconvert_exporter": "python",
   "pygments_lexer": "ipython3",
   "version": "3.8.3"
  }
 },
 "nbformat": 4,
 "nbformat_minor": 4
}
